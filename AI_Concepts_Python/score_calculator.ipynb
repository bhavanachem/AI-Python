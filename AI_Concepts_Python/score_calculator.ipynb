{
  "nbformat": 4,
  "nbformat_minor": 0,
  "metadata": {
    "colab": {
      "provenance": [],
      "authorship_tag": "ABX9TyNWArh/s/Aym8jTPiR8f1H6",
      "include_colab_link": true
    },
    "kernelspec": {
      "name": "python3",
      "display_name": "Python 3"
    },
    "language_info": {
      "name": "python"
    }
  },
  "cells": [
    {
      "cell_type": "markdown",
      "metadata": {
        "id": "view-in-github",
        "colab_type": "text"
      },
      "source": [
        "<a href=\"https://colab.research.google.com/github/bhavanachem/AI-Python/blob/main/AI_Concepts_Python/score_calculator.ipynb\" target=\"_parent\"><img src=\"https://colab.research.google.com/assets/colab-badge.svg\" alt=\"Open In Colab\"/></a>"
      ]
    },
    {
      "cell_type": "code",
      "source": [
        "# downloaded skillet zip file into google drive\n",
        "\n",
        "#student_marks.csv contains data for 400 students, 5 categories and then final score\n",
        "\n",
        "from google.colab import drive\n",
        "drive.mount('/content/drive')\n"
      ],
      "metadata": {
        "colab": {
          "base_uri": "https://localhost:8080/"
        },
        "id": "_Yo8YMfGO8T_",
        "outputId": "cfeefd5e-e6c4-4738-adce-18212cd0eaf4"
      },
      "execution_count": null,
      "outputs": [
        {
          "output_type": "stream",
          "name": "stdout",
          "text": [
            "Mounted at /content/drive\n"
          ]
        }
      ]
    },
    {
      "cell_type": "markdown",
      "source": [
        "Importing Modules"
      ],
      "metadata": {
        "id": "Moa0VOtpTmcZ"
      }
    },
    {
      "cell_type": "code",
      "source": [
        "import os\n",
        "work_dir = '/content/drive/MyDrive/SKILLIT Courses/AI Level 2/Regression'\n",
        "os.chdir(work_dir)      # chdir - change directory"
      ],
      "metadata": {
        "id": "q2R0WTQgSBHb"
      },
      "execution_count": null,
      "outputs": []
    },
    {
      "cell_type": "code",
      "source": [
        "import pandas as pd\n",
        "import numpy as np\n",
        "import sklearn\n",
        "from sklearn import linear_model  #best fit line\n",
        "from sklearn.utils import shuffle #shuffle sequence"
      ],
      "metadata": {
        "id": "5DopPvDmTkxD"
      },
      "execution_count": null,
      "outputs": []
    },
    {
      "cell_type": "markdown",
      "source": [
        "Load data"
      ],
      "metadata": {
        "id": "VXBet-ZJUF5I"
      }
    },
    {
      "cell_type": "code",
      "source": [
        "data = pd.read_csv(\"student_marks.csv\", sep=\",\") #reading file\n",
        "print(data.head()) #checking"
      ],
      "metadata": {
        "colab": {
          "base_uri": "https://localhost:8080/"
        },
        "id": "Z9SnWvZ8UG48",
        "outputId": "bd37207b-2ff6-4926-93d2-a08de2ef51f6"
      },
      "execution_count": null,
      "outputs": [
        {
          "output_type": "stream",
          "name": "stdout",
          "text": [
            "   studytime  absences  failures  assignments  mid-term  final\n",
            "0          2         6         0            5         6      6\n",
            "1          2         4         0            5         5      6\n",
            "2          2        10         3            7         8     10\n",
            "3          3         2         0           15        14     15\n",
            "4          2         4         0            6        10     10\n"
          ]
        }
      ]
    },
    {
      "cell_type": "markdown",
      "source": [
        "Seperating Data"
      ],
      "metadata": {
        "id": "zksWyXLwUgMj"
      }
    },
    {
      "cell_type": "code",
      "source": [
        "predict = \"final\" # output = label ; final score\n",
        "\n",
        "x = np.array(data.drop([predict], 1)) #input = feature (columns - studytime), drop = dropping last column\n",
        "y = np.array(data[predict]) #output = label\n",
        "\n",
        "x_train, x_test, y_train, y_test = sklearn.model_selection.train_test_split(x,y,test_size = 0.1)  #10% data for training"
      ],
      "metadata": {
        "colab": {
          "base_uri": "https://localhost:8080/"
        },
        "id": "RTn4JoU9U23Q",
        "outputId": "8ccaf5b4-3ac6-4159-ffda-73bbfb3e5c1f"
      },
      "execution_count": null,
      "outputs": [
        {
          "output_type": "stream",
          "name": "stderr",
          "text": [
            "<ipython-input-14-45a5b5ba1eb6>:3: FutureWarning: In a future version of pandas all arguments of DataFrame.drop except for the argument 'labels' will be keyword-only.\n",
            "  x = np.array(data.drop([predict], 1)) #input = feature (columns - studytime), drop = dropping last column\n"
          ]
        }
      ]
    },
    {
      "cell_type": "markdown",
      "source": [
        "Defining Model"
      ],
      "metadata": {
        "id": "JkHI8HP1XHR6"
      }
    },
    {
      "cell_type": "code",
      "source": [
        "linear = linear_model.LinearRegression()  #finding best-fit line\n",
        "\n",
        "linear.fit(x_train, y_train) #training the model\n",
        "acc = linear.score(x_test, y_test) #find the accuracy rate using the test values ( hasnt learned the test data yet )\n",
        "\n",
        "print(acc) # printing accuracy"
      ],
      "metadata": {
        "colab": {
          "base_uri": "https://localhost:8080/"
        },
        "id": "RKrALVJnU41x",
        "outputId": "1a400816-395c-4a3d-a3e0-d5be1abf92b8"
      },
      "execution_count": null,
      "outputs": [
        {
          "output_type": "stream",
          "name": "stdout",
          "text": [
            "0.8096844393361429\n"
          ]
        }
      ]
    },
    {
      "cell_type": "markdown",
      "source": [
        "Predicting for specific students"
      ],
      "metadata": {
        "id": "mM7iSEt1YLd8"
      }
    },
    {
      "cell_type": "code",
      "source": [
        "#comparing computer generated scores and the actual scores\n",
        "predictions = linear.predict(x_test)\n",
        "\n",
        "for x in range(len(predictions)):\n",
        "  print(f'Predicted value: {predictions[x]:0.1f}\\t inputs: {x_test[x]} \\t Actual Output: {y_test[x]}')\n"
      ],
      "metadata": {
        "colab": {
          "base_uri": "https://localhost:8080/"
        },
        "id": "aWhOoyPyYRBm",
        "outputId": "03bdd1f5-b0f3-4c69-f05e-90f5b4c2c1c5"
      },
      "execution_count": null,
      "outputs": [
        {
          "output_type": "stream",
          "name": "stdout",
          "text": [
            "Predicted value: 11.2\t inputs: [ 1 16  1 12 11] \t Actual Output: 12\n",
            "Predicted value: 12.3\t inputs: [ 1  3  0 14 12] \t Actual Output: 12\n",
            "Predicted value: 13.0\t inputs: [ 2  2  0 13 13] \t Actual Output: 13\n",
            "Predicted value: 15.6\t inputs: [ 1  2  0 17 15] \t Actual Output: 15\n",
            "Predicted value: 14.9\t inputs: [ 3  0  0 15 15] \t Actual Output: 15\n",
            "Predicted value: 12.2\t inputs: [ 2 12  0 12 12] \t Actual Output: 11\n",
            "Predicted value: 8.0\t inputs: [ 2 14  0 10  8] \t Actual Output: 9\n",
            "Predicted value: 9.9\t inputs: [ 1  4  0 10 10] \t Actual Output: 10\n",
            "Predicted value: 13.4\t inputs: [ 2  9  0 15 13] \t Actual Output: 15\n",
            "Predicted value: 9.4\t inputs: [ 1 22  0  9  9] \t Actual Output: 9\n",
            "Predicted value: 11.9\t inputs: [ 1  2  0 11 12] \t Actual Output: 11\n",
            "Predicted value: 9.8\t inputs: [ 1  2  0 10 10] \t Actual Output: 10\n",
            "Predicted value: 14.5\t inputs: [ 2 20  1 15 14] \t Actual Output: 13\n",
            "Predicted value: 8.6\t inputs: [ 3  7  0 10  9] \t Actual Output: 9\n",
            "Predicted value: 10.7\t inputs: [ 2  4  0 10 11] \t Actual Output: 9\n",
            "Predicted value: 15.3\t inputs: [ 2  2  0 16 15] \t Actual Output: 15\n",
            "Predicted value: 12.8\t inputs: [ 2  0  0 12 13] \t Actual Output: 14\n",
            "Predicted value: 20.0\t inputs: [ 1 10  0 18 19] \t Actual Output: 19\n",
            "Predicted value: 11.7\t inputs: [ 2  0  1 14 12] \t Actual Output: 12\n",
            "Predicted value: 7.3\t inputs: [2 0 0 8 8] \t Actual Output: 0\n",
            "Predicted value: 12.4\t inputs: [ 2  6  1 10 13] \t Actual Output: 13\n",
            "Predicted value: 12.9\t inputs: [ 1 10  1 11 13] \t Actual Output: 13\n",
            "Predicted value: 6.2\t inputs: [3 6 0 7 7] \t Actual Output: 7\n",
            "Predicted value: 15.1\t inputs: [ 4  7  0 16 15] \t Actual Output: 17\n",
            "Predicted value: 8.2\t inputs: [1 8 2 9 9] \t Actual Output: 9\n",
            "Predicted value: 13.1\t inputs: [ 1 12  0 10 13] \t Actual Output: 12\n",
            "Predicted value: 10.9\t inputs: [ 1  0  0 11 11] \t Actual Output: 10\n",
            "Predicted value: 11.5\t inputs: [ 1 16  0 12 11] \t Actual Output: 11\n",
            "Predicted value: 6.1\t inputs: [2 0 0 6 7] \t Actual Output: 0\n",
            "Predicted value: 15.0\t inputs: [ 2  0  0 14 15] \t Actual Output: 15\n",
            "Predicted value: 12.7\t inputs: [ 2 20  0 14 12] \t Actual Output: 13\n",
            "Predicted value: 6.1\t inputs: [ 2 26  0  7  6] \t Actual Output: 6\n",
            "Predicted value: 12.7\t inputs: [ 1  8  0 16 12] \t Actual Output: 13\n",
            "Predicted value: 8.5\t inputs: [ 1 30  0  8  8] \t Actual Output: 8\n",
            "Predicted value: 15.0\t inputs: [ 3  0  0 16 15] \t Actual Output: 15\n",
            "Predicted value: 11.8\t inputs: [ 1 18  0 14 11] \t Actual Output: 13\n",
            "Predicted value: 8.1\t inputs: [ 1 10  0 10  8] \t Actual Output: 9\n",
            "Predicted value: 7.6\t inputs: [ 2 15  1  9  8] \t Actual Output: 8\n",
            "Predicted value: 18.1\t inputs: [ 3  2  0 16 18] \t Actual Output: 18\n",
            "Predicted value: 11.8\t inputs: [ 1  2  0 10 12] \t Actual Output: 12\n"
          ]
        }
      ]
    },
    {
      "cell_type": "code",
      "source": [
        "print(\"*******************************Final Score Predictor***********************************\")\n",
        "studytime = input(\"Studytime?\")\n",
        "absences = input(\"Absenses?\")\n",
        "failures = input(\"Failed classes?\")\n",
        "assignments = input(\"Score on assignments out of 20?\")\n",
        "midterm = input(\"Midterm score?\")\n",
        "\n",
        "data = [[int(studytime), int(absences), int(failures), int(assignments), int(midterm)]]\n",
        "\n",
        "print(\"***************************************************************************************\")\n",
        "prediction = linear.predict(data)\n",
        "print(f'The model expects that you will score {prediction[0]:0.2f} in your finals')"
      ],
      "metadata": {
        "colab": {
          "base_uri": "https://localhost:8080/"
        },
        "id": "sYUqsviCZOsP",
        "outputId": "1157fd9a-0a71-4ca6-8af8-3f8e0a8e75c4"
      },
      "execution_count": null,
      "outputs": [
        {
          "output_type": "stream",
          "name": "stdout",
          "text": [
            "*******************************Final Score Predictor***********************************\n",
            "Studytime?5\n",
            "Absenses?9\n",
            "Failed classes?0\n",
            "Score on assignments out of 20?13\n",
            "Midterm score?18\n",
            "***************************************************************************************\n",
            "The model expects that you will score 17.53 in your finals\n"
          ]
        }
      ]
    }
  ]
}